{
 "cells": [
  {
   "cell_type": "markdown",
   "id": "79c5ec7c",
   "metadata": {},
   "source": [
    "# 1. Extract features of training and test images using a pre-trained ResNet50 model (50 points)\n",
    "Please print the size of extracted features, e.g., training features: 1400 * d, test features: 400 *d."
   ]
  },
  {
   "cell_type": "code",
   "execution_count": null,
   "id": "3e9f0084",
   "metadata": {},
   "outputs": [],
   "source": []
  },
  {
   "cell_type": "markdown",
   "id": "b0e3e068",
   "metadata": {},
   "source": [
    "# 2. Call SVM and kNN from scikit-learn and train the extracted deep features, respectively (30 points)"
   ]
  },
  {
   "cell_type": "code",
   "execution_count": null,
   "id": "68704a6d",
   "metadata": {},
   "outputs": [],
   "source": []
  },
  {
   "cell_type": "markdown",
   "id": "3fd101cf",
   "metadata": {},
   "source": [
    "# 3. Report the accuracy using Dog_X_ray_classfication_accuracy software, please attach the results image here (20 points)"
   ]
  },
  {
   "cell_type": "code",
   "execution_count": null,
   "id": "c149393e",
   "metadata": {},
   "outputs": [],
   "source": []
  }
 ],
 "metadata": {
  "kernelspec": {
   "display_name": "Python 3",
   "language": "python",
   "name": "python3"
  },
  "language_info": {
   "codemirror_mode": {
    "name": "ipython",
    "version": 3
   },
   "file_extension": ".py",
   "mimetype": "text/x-python",
   "name": "python",
   "nbconvert_exporter": "python",
   "pygments_lexer": "ipython3",
   "version": "3.10.14"
  }
 },
 "nbformat": 4,
 "nbformat_minor": 5
}
